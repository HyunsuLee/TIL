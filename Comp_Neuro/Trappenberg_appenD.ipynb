{
 "cells": [
  {
   "cell_type": "markdown",
   "metadata": {},
   "source": [
    "# Appendix of Trappenberg book\n",
    "## Information of theory of neuron\n",
    "### Entropy of poisson spike"
   ]
  },
  {
   "cell_type": "code",
   "execution_count": 62,
   "metadata": {},
   "outputs": [],
   "source": [
    "import numpy as np\n",
    "import matplotlib.pyplot as plt\n",
    "import math\n",
    "%matplotlib inline"
   ]
  },
  {
   "cell_type": "markdown",
   "metadata": {},
   "source": [
    "* show poisson distribuion\n",
    "   - mean and variation = 2\n",
    "   - sample 10000 times"
   ]
  },
  {
   "cell_type": "code",
   "execution_count": 63,
   "metadata": {},
   "outputs": [
    {
     "data": {
      "text/plain": [
       "(array([1.366e+03, 2.676e+03, 2.720e+03, 1.805e+03, 9.250e+02, 3.520e+02,\n",
       "        1.200e+02, 2.700e+01, 7.000e+00, 2.000e+00]),\n",
       " array([0. , 0.9, 1.8, 2.7, 3.6, 4.5, 5.4, 6.3, 7.2, 8.1, 9. ]),\n",
       " <a list of 10 Patch objects>)"
      ]
     },
     "execution_count": 63,
     "metadata": {},
     "output_type": "execute_result"
    },
    {
     "data": {
      "image/png": "[encoded data removed]",
      "text/plain": [
       "<matplotlib.figure.Figure at 0x7f1d44441c50>"
      ]
     },
     "metadata": {},
     "output_type": "display_data"
    }
   ],
   "source": [
    "N = np.random.poisson(2, 10000)\n",
    "plt.hist(N)"
   ]
  },
  {
   "cell_type": "markdown",
   "metadata": {},
   "source": [
    "* The distribution of poisson distribution following equation\n",
    "\n",
    "$$ P(n) = \\frac{N^{n}e^{N}}{n!} $$\n",
    "\n",
    "* Entropy \n",
    "$$ H = - \\sum_{n}{P(n)log_{2}P(n)} $$\n",
    "$$ = - \\frac{1}{ln2}\\sum_{n}{P(n)lnP(n)} $$\n",
    "\n",
    "* However the page 352 of the book they conluded by the Striling's approximation\n",
    "\n",
    "$$ H = \\frac{1}{2}log_{2}{N} - \\frac{1}{2}log_{2}{2\\pi} $$\n",
    "\n",
    "* If following there conclusion, we get"
   ]
  },
  {
   "cell_type": "code",
   "execution_count": 82,
   "metadata": {},
   "outputs": [
    {
     "data": {
      "text/plain": [
       "<matplotlib.collections.PathCollection at 0x7f1d43c52898>"
      ]
     },
     "execution_count": 82,
     "metadata": {},
     "output_type": "execute_result"
    },
    {
     "data": {
      "image/png": "[encoded data removed]",
      "text/plain": [
       "<matplotlib.figure.Figure at 0x7f1d43c8d518>"
      ]
     },
     "metadata": {},
     "output_type": "display_data"
    }
   ],
   "source": [
    "epsilon = 0.1\n",
    "R = np.random.rand(100) * 10 + epsilon \n",
    "Y1 = (np.log2(R) - np.log2(np.pi*2))/(2 * R)\n",
    "plt.scatter(R, Y1)"
   ]
  },
  {
   "cell_type": "markdown",
   "metadata": {},
   "source": [
    "* This is not what we looking for, like the figure D.4B.\n",
    "\n",
    "https://www.jstor.org/stable/2030812?seq=1#page_scan_tab_contents\n",
    "https://pure.tue.nl/ws/files/1959440/Metis199989.pdf\n",
    "\n",
    "* Above reference using follow equation\n",
    "\n",
    "$$ H = \\frac{1}{2}log_{2}{2\\pi eN} - \\frac{1}{12N} + O(N^{-2}) $$\n",
    "\n",
    "or\n",
    "\n",
    "$$ H = \\frac{1}{2}log_{2}{2\\pi eN} - \\sum_{n = 1} {a_{n}(n-1)!N^{-n} }$$\n",
    "\n",
    "anyway the first factor seems important."
   ]
  },
  {
   "cell_type": "code",
   "execution_count": 83,
   "metadata": {},
   "outputs": [
    {
     "data": {
      "text/plain": [
       "<matplotlib.collections.PathCollection at 0x7f1d43bb6cc0>"
      ]
     },
     "execution_count": 83,
     "metadata": {},
     "output_type": "execute_result"
    },
    {
     "data": {
      "image/png": "[encoded data removed]",
      "text/plain": [
       "<matplotlib.figure.Figure at 0x7f1d43c65588>"
      ]
     },
     "metadata": {},
     "output_type": "display_data"
    }
   ],
   "source": [
    "\n",
    "Y2 = (np.log2(np.pi*R*np.exp(1)))/(R)\n",
    "plt.scatter(R, Y2)"
   ]
  },
  {
   "cell_type": "markdown",
   "metadata": {},
   "source": [
    "* making possion probabilty distribution "
   ]
  },
  {
   "cell_type": "code",
   "execution_count": 142,
   "metadata": {},
   "outputs": [
    {
     "data": {
      "text/plain": [
       "<matplotlib.collections.PathCollection at 0x7f1d43b445c0>"
      ]
     },
     "execution_count": 142,
     "metadata": {},
     "output_type": "execute_result"
    },
    {
     "data": {
      "image/png": "[encoded data removed]",
      "text/plain": [
       "<matplotlib.figure.Figure at 0x7f1d43be7a58>"
      ]
     },
     "metadata": {},
     "output_type": "display_data"
    }
   ],
   "source": [
    "entropy_per_spike = []\n",
    "spike_count = []\n",
    "for pois_N in range(1, 11):\n",
    "    entropy_sum = 0\n",
    "    for i in range(1,101):\n",
    "        prob = pois_N ** i * np.exp(-pois_N)/(np.math.factorial(i))\n",
    "        log_prob = np.log2(prob)\n",
    "        entropy_each = - prob * log_prob\n",
    "        entropy_sum = entropy_sum + entropy_each\n",
    "    entropy_per_spike.append(entropy_sum/pois_N)\n",
    "    spike_count.append(pois_N)\n",
    "    \n",
    "plt.scatter(spike_count, entropy_per_spike)\n"
   ]
  }
 ],
 "metadata": {
  "kernelspec": {
   "display_name": "Python 3",
   "language": "python",
   "name": "python3"
  },
  "language_info": {
   "codemirror_mode": {
    "name": "ipython",
    "version": 3
   },
   "file_extension": ".py",
   "mimetype": "text/x-python",
   "name": "python",
   "nbconvert_exporter": "python",
   "pygments_lexer": "ipython3",
   "version": "3.5.1"
  }
 },
 "nbformat": 4,
 "nbformat_minor": 2
}
