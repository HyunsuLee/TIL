{
 "cells": [
  {
   "cell_type": "markdown",
   "metadata": {},
   "source": [
    "# Cerebral cortex by ET Rolls\n",
    "\n",
    "## Appendix D.2 Autoassociative network\n",
    "\n",
    "* Adapted from (c) E T Rolls www.oxcns.org 2015\n",
    "* The background to these networks is provided in\n",
    "* Rolls ET (2016) Cerebral Cortex: Principles of Operation (Oxford University Press) Appendix 2 (B)\n",
    "* which is available at http://www.oxcns.org by following the link to the book.\n",
    "* The instructions and exercises for this code are in \n",
    "* Rolls ET (2016) Cerebral Cortex: Principles of Operation (Oxford University Press) Appendix 4 (D) \n",
    "* which is available at http://www.oxcns.org by following the link to the book.\n",
    "* The background to these networks is also available in\n",
    "* Rolls ET (2008) Memory, % Attention and Decision-Making (Oxford University Press) Appendix 2, \n",
    "* which is *available at\n",
    "http://www.oxcns.org/papers/RollsMemoryAttentionAndDecisionMakingContents+Appendices1+2.pdf\n",
    "\n",
    "## Purpose of this notebook is rewriting the original matlab code to python code\n",
    "\n",
    "* From AutoAssociationDemo.m \n"
   ]
  },
  {
   "cell_type": "code",
   "execution_count": 41,
   "metadata": {},
   "outputs": [
    {
     "ename": "ModuleNotFoundError",
     "evalue": "No module named 'matplotlib'",
     "output_type": "error",
     "traceback": [
      "\u001b[0;31m---------------------------------------------------------------------------\u001b[0m",
      "\u001b[0;31mModuleNotFoundError\u001b[0m                       Traceback (most recent call last)",
      "\u001b[0;32m<ipython-input-41-e0e1492b7973>\u001b[0m in \u001b[0;36m<module>\u001b[0;34m\u001b[0m\n\u001b[1;32m      1\u001b[0m \u001b[0;32mimport\u001b[0m \u001b[0mnumpy\u001b[0m \u001b[0;32mas\u001b[0m \u001b[0mnp\u001b[0m\u001b[0;34m\u001b[0m\u001b[0m\n\u001b[0;32m----> 2\u001b[0;31m \u001b[0;32mimport\u001b[0m \u001b[0mmatplotlib\u001b[0m\u001b[0;34m.\u001b[0m\u001b[0mpyplot\u001b[0m \u001b[0;32mas\u001b[0m \u001b[0mplt\u001b[0m\u001b[0;34m\u001b[0m\u001b[0m\n\u001b[0m",
      "\u001b[0;31mModuleNotFoundError\u001b[0m: No module named 'matplotlib'"
     ]
    }
   ],
   "source": [
    "import numpy as np\n",
    "import matplotlib.pyplot as plt"
   ]
  },
  {
   "cell_type": "markdown",
   "metadata": {},
   "source": [
    "### Preparation of hyperparapmeter of network"
   ]
  },
  {
   "cell_type": "code",
   "execution_count": 38,
   "metadata": {},
   "outputs": [],
   "source": [
    "N = 100            # number of neurons in the fully connected autoassociation net\n",
    "nSyn = N           # number of synapses on each neuron\n",
    "SynMat = np.zeros((nSyn, N)) # (Synapses = Rows, neurons = Columns)\n",
    "nPatts = 10        # the number of training and testng patterns. Suggest 10 for sparseness = 0.5, \n",
    "                   # and 30 for sparseness = 0.1\n",
    "Learnrate = 1 / nPatts  # Not of especial significance in an autoassociation network, \n",
    "                       # but this keeps the weights within a range \n",
    "Sparseness = 0.5   # the sparseness of the trained representation, \n",
    "                    # i.e. the proportion of neurons that have high firing rates of 1\n",
    "                    # Investigate values of 0.5 and 0.1\n",
    "nFlipBits = 14     # The number of bits that are flipped to produce distorted recall cues.\n",
    "                    # It is suggested that this be set to close to 0.2 * N * Sparseness\n",
    "nepochs = 9       # the number of times that the network is allowed to update during testng\n"
   ]
  },
  {
   "cell_type": "markdown",
   "metadata": {},
   "source": [
    "### Making Random binary pattern"
   ]
  },
  {
   "cell_type": "code",
   "execution_count": 39,
   "metadata": {},
   "outputs": [],
   "source": [
    "TrainPatts = np.zeros((N, nPatts))\n",
    "number_of_fired = int(N * Sparseness)\n",
    "\n",
    "for patt in range(nPatts):\n",
    "    TrainPatts[0:number_of_fired, patt] = 1 \n",
    "    p = np.random.permutation(N)\n",
    "    TrainPatts[:, patt] = TrainPatts[p, patt]\n"
   ]
  },
  {
   "cell_type": "code",
   "execution_count": 40,
   "metadata": {},
   "outputs": [
    {
     "ename": "NameError",
     "evalue": "name 'plot' is not defined",
     "output_type": "error",
     "traceback": [
      "\u001b[0;31m---------------------------------------------------------------------------\u001b[0m",
      "\u001b[0;31mNameError\u001b[0m                                 Traceback (most recent call last)",
      "\u001b[0;32m<ipython-input-40-ed814ea826bb>\u001b[0m in \u001b[0;36m<module>\u001b[0;34m\u001b[0m\n\u001b[0;32m----> 1\u001b[0;31m \u001b[0mplot\u001b[0m\u001b[0;34m(\u001b[0m\u001b[0mTrainPatts\u001b[0m\u001b[0;34m)\u001b[0m\u001b[0;34m\u001b[0m\u001b[0m\n\u001b[0m",
      "\u001b[0;31mNameError\u001b[0m: name 'plot' is not defined"
     ]
    }
   ],
   "source": [
    "plot(TrainPatts)"
   ]
  }
 ],
 "metadata": {
  "kernelspec": {
   "display_name": "Python 3",
   "language": "python",
   "name": "python3"
  },
  "language_info": {
   "codemirror_mode": {
    "name": "ipython",
    "version": 3
   },
   "file_extension": ".py",
   "mimetype": "text/x-python",
   "name": "python",
   "nbconvert_exporter": "python",
   "pygments_lexer": "ipython3",
   "version": "3.6.2"
  }
 },
 "nbformat": 4,
 "nbformat_minor": 2
}
